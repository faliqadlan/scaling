{
 "cells": [
  {
   "cell_type": "code",
   "execution_count": 5,
   "metadata": {},
   "outputs": [
    {
     "ename": "UFuncTypeError",
     "evalue": "Cannot cast ufunc 'subtract' output from dtype('float64') to dtype('uint8') with casting rule 'same_kind'",
     "output_type": "error",
     "traceback": [
      "\u001b[1;31m---------------------------------------------------------------------------\u001b[0m",
      "\u001b[1;31mUFuncTypeError\u001b[0m                            Traceback (most recent call last)",
      "Cell \u001b[1;32mIn[5], line 49\u001b[0m\n\u001b[0;32m     47\u001b[0m \u001b[38;5;66;03m# Example usage\u001b[39;00m\n\u001b[0;32m     48\u001b[0m image_path \u001b[38;5;241m=\u001b[39m \u001b[38;5;124m\"\u001b[39m\u001b[38;5;124mimages/1-IMA-01B_Thorax_AP.tiff\u001b[39m\u001b[38;5;124m\"\u001b[39m\n\u001b[1;32m---> 49\u001b[0m BIMFs, residual \u001b[38;5;241m=\u001b[39m decompose_image(image_path)\n",
      "Cell \u001b[1;32mIn[5], line 37\u001b[0m, in \u001b[0;36mdecompose_image\u001b[1;34m(image_path, K)\u001b[0m\n\u001b[0;32m     34\u001b[0m     \u001b[38;5;28;01mraise\u001b[39;00m \u001b[38;5;167;01mValueError\u001b[39;00m(\u001b[38;5;124m\"\u001b[39m\u001b[38;5;124mImage not found or unable to load.\u001b[39m\u001b[38;5;124m\"\u001b[39m)\n\u001b[0;32m     36\u001b[0m \u001b[38;5;66;03m# Perform FABEMD\u001b[39;00m\n\u001b[1;32m---> 37\u001b[0m BIMFs, residual \u001b[38;5;241m=\u001b[39m fabemd(image, K)\n\u001b[0;32m     39\u001b[0m \u001b[38;5;66;03m# Output the results\u001b[39;00m\n\u001b[0;32m     40\u001b[0m \u001b[38;5;28;01mfor\u001b[39;00m i, bimf \u001b[38;5;129;01min\u001b[39;00m \u001b[38;5;28menumerate\u001b[39m(BIMFs):\n",
      "Cell \u001b[1;32mIn[5], line 25\u001b[0m, in \u001b[0;36mfabemd\u001b[1;34m(image, K)\u001b[0m\n\u001b[0;32m     23\u001b[0m     imf, mean_env \u001b[38;5;241m=\u001b[39m extract_imf(residual)\n\u001b[0;32m     24\u001b[0m     BIMFs\u001b[38;5;241m.\u001b[39mappend(imf)\n\u001b[1;32m---> 25\u001b[0m     residual \u001b[38;5;241m-\u001b[39m\u001b[38;5;241m=\u001b[39m imf\n\u001b[0;32m     27\u001b[0m \u001b[38;5;28;01mreturn\u001b[39;00m BIMFs, residual\n",
      "\u001b[1;31mUFuncTypeError\u001b[0m: Cannot cast ufunc 'subtract' output from dtype('float64') to dtype('uint8') with casting rule 'same_kind'"
     ]
    }
   ],
   "source": [
    "import numpy as np\n",
    "import cv2\n",
    "from scipy.ndimage import maximum_filter, minimum_filter\n",
    "\n",
    "\n",
    "def fabemd(image, K):\n",
    "    def extract_imf(image):\n",
    "        # Find local maxima and minima\n",
    "        max_env = maximum_filter(image, size=3)\n",
    "        min_env = minimum_filter(image, size=3)\n",
    "\n",
    "        # Calculate the mean envelope\n",
    "        mean_env = (max_env + min_env) / 2\n",
    "\n",
    "        # Extract the IMF\n",
    "        imf = image - mean_env\n",
    "        return imf, mean_env\n",
    "\n",
    "    BIMFs = []\n",
    "    residual = image.copy()\n",
    "\n",
    "    for _ in range(K):\n",
    "        imf, mean_env = extract_imf(residual)\n",
    "        BIMFs.append(imf)\n",
    "        residual -= imf\n",
    "\n",
    "    return BIMFs, residual\n",
    "\n",
    "\n",
    "def decompose_image(image_path, K=10):\n",
    "    # Load the image\n",
    "    image = cv2.imread(image_path, cv2.IMREAD_GRAYSCALE)\n",
    "    if image is None:\n",
    "        raise ValueError(\"Image not found or unable to load.\")\n",
    "\n",
    "    # Perform FABEMD\n",
    "    BIMFs, residual = fabemd(image, K)\n",
    "\n",
    "    # Output the results\n",
    "    for i, bimf in enumerate(BIMFs):\n",
    "        cv2.imwrite(f\"BIMF_{i+1}.png\", bimf)\n",
    "    cv2.imwrite(\"residual.png\", residual)\n",
    "\n",
    "    return BIMFs, residual\n",
    "\n",
    "\n",
    "# Example usage\n",
    "image_path = \"images/1-IMA-01B_Thorax_AP.tiff\"\n",
    "BIMFs, residual = decompose_image(image_path)"
   ]
  }
 ],
 "metadata": {
  "kernelspec": {
   "display_name": "Python 3",
   "language": "python",
   "name": "python3"
  },
  "language_info": {
   "codemirror_mode": {
    "name": "ipython",
    "version": 3
   },
   "file_extension": ".py",
   "mimetype": "text/x-python",
   "name": "python",
   "nbconvert_exporter": "python",
   "pygments_lexer": "ipython3",
   "version": "3.11.10"
  }
 },
 "nbformat": 4,
 "nbformat_minor": 2
}
