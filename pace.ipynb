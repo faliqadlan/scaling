{
 "cells": [
  {
   "cell_type": "code",
   "execution_count": null,
   "metadata": {},
   "outputs": [],
   "source": [
    "import numpy as np\n",
    "import cv2\n",
    "from scipy.ndimage import maximum_filter, minimum_filter\n",
    "\n",
    "\n",
    "def fabemd(image, K):\n",
    "    def extract_imf(image, sizeK = 3):\n",
    "        # Find local maxima and minima\n",
    "        max_env = maximum_filter(image, size=sizeK)\n",
    "        min_env = minimum_filter(image, size=sizeK)\n",
    "\n",
    "        # Calculate the mean envelope\n",
    "        mean_env = (max_env + min_env) / 2\n",
    "\n",
    "        # Extract the IMF\n",
    "        imf = image - mean_env\n",
    "        return imf, mean_env\n",
    "\n",
    "    BIMFs = []\n",
    "    residual = image.astype(np.float64)\n",
    "\n",
    "    for ik in range(K):\n",
    "        imf, mean_env = extract_imf(residual, sizeK=ik)\n",
    "        BIMFs.append(imf)\n",
    "        residual -= imf\n",
    "\n",
    "    return BIMFs, residual\n",
    "\n",
    "\n",
    "def decompose_image(image_path, K=10):\n",
    "    # Load the image\n",
    "    image = cv2.imread(image_path, cv2.IMREAD_GRAYSCALE)\n",
    "    if image is None:\n",
    "        raise ValueError(\"Image not found or unable to load.\")\n",
    "\n",
    "    # Perform FABEMD\n",
    "    BIMFs, residual = fabemd(image, K)\n",
    "\n",
    "    # Output the results\n",
    "    for i, bimf in enumerate(BIMFs):\n",
    "        cv2.imwrite(f\"BIMF_{i+1}.png\", bimf.astype(np.uint8))\n",
    "    cv2.imwrite(\"residual.png\", residual.astype(np.uint8))\n",
    "\n",
    "    return BIMFs, residual\n",
    "\n",
    "\n",
    "# Example usage\n",
    "image_path = \"images/1-IMA-01B_Thorax_AP.tiff\"\n",
    "BIMFs, residual = decompose_image(image_path)"
   ]
  }
 ],
 "metadata": {
  "kernelspec": {
   "display_name": "Python 3",
   "language": "python",
   "name": "python3"
  },
  "language_info": {
   "codemirror_mode": {
    "name": "ipython",
    "version": 3
   },
   "file_extension": ".py",
   "mimetype": "text/x-python",
   "name": "python",
   "nbconvert_exporter": "python",
   "pygments_lexer": "ipython3",
   "version": "3.11.10"
  }
 },
 "nbformat": 4,
 "nbformat_minor": 2
}
