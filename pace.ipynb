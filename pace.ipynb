{
 "cells": [
  {
   "cell_type": "code",
   "execution_count": 9,
   "metadata": {},
   "outputs": [
    {
     "name": "stdout",
     "output_type": "stream",
     "text": [
      "Requirement already satisfied: EMD-signal in d:\\onedrive - ugm 365\\x-ray\\scaling\\.conda\\lib\\site-packages (1.6.4)\n",
      "Requirement already satisfied: numpy>=1.12 in d:\\onedrive - ugm 365\\x-ray\\scaling\\.conda\\lib\\site-packages (from EMD-signal) (2.0.2)\n",
      "Requirement already satisfied: scipy>=0.19 in d:\\onedrive - ugm 365\\x-ray\\scaling\\.conda\\lib\\site-packages (from EMD-signal) (1.14.1)\n",
      "Requirement already satisfied: pathos>=0.2.1 in d:\\onedrive - ugm 365\\x-ray\\scaling\\.conda\\lib\\site-packages (from EMD-signal) (0.3.3)\n",
      "Requirement already satisfied: tqdm<5.0,>=4.64.0 in d:\\onedrive - ugm 365\\x-ray\\scaling\\.conda\\lib\\site-packages (from EMD-signal) (4.67.0)\n",
      "Requirement already satisfied: ppft>=1.7.6.9 in d:\\onedrive - ugm 365\\x-ray\\scaling\\.conda\\lib\\site-packages (from pathos>=0.2.1->EMD-signal) (1.7.6.9)\n",
      "Requirement already satisfied: dill>=0.3.9 in d:\\onedrive - ugm 365\\x-ray\\scaling\\.conda\\lib\\site-packages (from pathos>=0.2.1->EMD-signal) (0.3.9)\n",
      "Requirement already satisfied: pox>=0.3.5 in d:\\onedrive - ugm 365\\x-ray\\scaling\\.conda\\lib\\site-packages (from pathos>=0.2.1->EMD-signal) (0.3.5)\n",
      "Requirement already satisfied: multiprocess>=0.70.17 in d:\\onedrive - ugm 365\\x-ray\\scaling\\.conda\\lib\\site-packages (from pathos>=0.2.1->EMD-signal) (0.70.17)\n",
      "Requirement already satisfied: colorama in d:\\onedrive - ugm 365\\x-ray\\scaling\\.conda\\lib\\site-packages (from tqdm<5.0,>=4.64.0->EMD-signal) (0.4.6)\n",
      "Note: you may need to restart the kernel to use updated packages.\n"
     ]
    }
   ],
   "source": [
    "%pip install EMD-signal"
   ]
  },
  {
   "cell_type": "code",
   "execution_count": 8,
   "metadata": {},
   "outputs": [],
   "source": [
    "from PyEMD import BEMD"
   ]
  }
 ],
 "metadata": {
  "kernelspec": {
   "display_name": "Python 3",
   "language": "python",
   "name": "python3"
  },
  "language_info": {
   "codemirror_mode": {
    "name": "ipython",
    "version": 3
   },
   "file_extension": ".py",
   "mimetype": "text/x-python",
   "name": "python",
   "nbconvert_exporter": "python",
   "pygments_lexer": "ipython3",
   "version": "3.11.10"
  }
 },
 "nbformat": 4,
 "nbformat_minor": 2
}
